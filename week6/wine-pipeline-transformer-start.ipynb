{
 "cells": [
  {
   "attachments": {},
   "cell_type": "markdown",
   "metadata": {},
   "source": [
    "# <a id=\"0\">Wine Data Exercises (Part 2) with pipeline/column transformer and Cross Validation</a>\n",
    "\n",
    "In this notebook, we will review basic steps of exploratory data analysis following the example in the EDA-PIPELINE,ipynb example. We will work with the wine data set __winequality-white.csv__ provided in the data folder. \n",
    "\n",
    "__Dataset schema:__ \n",
    "   - fixed acidity\n",
    "   - volatile acidity\n",
    "   - citric acid\n",
    "   - residual sugar\n",
    "   - chlorides\n",
    "   - free sulfur dioxide\n",
    "   - total sulfur dioxide\n",
    "   - density\n",
    "   - pH\n",
    "   - sulphates\n",
    "   - alcohol\n",
    "\n",
    "   Output variable (based on sensory data): \n",
    "   - quality (score between 0 and 10)"
   ]
  },
  {
   "cell_type": "code",
   "execution_count": null,
   "metadata": {},
   "outputs": [],
   "source": [
    "import pandas as pd\n",
    "\n",
    "import warnings\n",
    "warnings.filterwarnings(\"ignore\")\n",
    "  \n",
    "df = pd.read_csv('../data/winequality-white.csv', sep=';')"
   ]
  },
  {
   "cell_type": "markdown",
   "metadata": {},
   "source": [
    "We will look at number of rows, columns and some simple statistics of the dataset using [df.info()](https://pandas.pydata.org/docs/reference/api/pandas.DataFrame.info.html)"
   ]
  },
  {
   "cell_type": "code",
   "execution_count": null,
   "metadata": {},
   "outputs": [],
   "source": [
    "df.describe()"
   ]
  },
  {
   "attachments": {},
   "cell_type": "markdown",
   "metadata": {},
   "source": [
    "Create a catagorical feature column using qcut()"
   ]
  },
  {
   "cell_type": "code",
   "execution_count": 8,
   "metadata": {},
   "outputs": [
    {
     "data": {
      "text/plain": [
       "fixed acidity group\n",
       "poor       1107\n",
       "ok         1017\n",
       "average     984\n",
       "good        903\n",
       "best        887\n",
       "Name: count, dtype: int64"
      ]
     },
     "execution_count": 8,
     "metadata": {},
     "output_type": "execute_result"
    }
   ],
   "source": [
    "fixed_acidity_bin_labels_5 = ['poor', 'average', 'ok', 'good', 'best']\n",
    "df['fixed acidity group'] = pd.qcut(df['fixed acidity'], q=[0, .2, .4, .6, .8, 1], labels=fixed_acidity_bin_labels_5)\n",
    "df['fixed acidity group'].value_counts()"
   ]
  },
  {
   "attachments": {},
   "cell_type": "markdown",
   "metadata": {},
   "source": [
    "## Data Processing with Pipeline\n",
    " \n",
    "__Part 1.__ Build a pipeline that has two pre-processors\n",
    "\n",
    "- One is to impute the missing values with the mean using sklearn's SimpleImputer, scale the numerical features to have similar orders of magnitude by bringing them into the 0-1 range with sklearn's MinMaxScaler, for numerical features \n",
    "\n",
    "- One is to use one hot encoding to encode the catagorical feature. Note here even the feature `fixed acidity group` is ordinal, so make sure you choose the most appropriate encoder. \n",
    "\n",
    "Then we add a decision tree estimator to form the pipeline. Visualize pipeline. "
   ]
  },
  {
   "attachments": {},
   "cell_type": "markdown",
   "metadata": {},
   "source": [
    "__Part 2.__ Test the pipeline on the training data, then on the test data.\n",
    "\n",
    "__Part 3.__ Use 5-fold Grid Search to tune the hyper-parameter for the decision tree estimator. You may use a grid like this\n",
    "\n",
    "        param_grid={'dt__max_depth': [100, 200, 300],#, 50, 75, 100, 125, 150, 200, 250], \n",
    "            'dt__min_samples_leaf': [5, 10, 15],#, 25, 30],\n",
    "            'dt__min_samples_split': [2, 5, 15]#, 25, 30, 45, 50]\n",
    "        }\n"
   ]
  }
 ],
 "metadata": {
  "interpreter": {
   "hash": "eba38789ab565d76f074e8fa97ecc7da63eb4a5e1ba28cc348f16f5285783ca7"
  },
  "kernelspec": {
   "display_name": "conda_mxnet_p36",
   "language": "python",
   "name": "python3"
  },
  "language_info": {
   "codemirror_mode": {
    "name": "ipython",
    "version": 3
   },
   "file_extension": ".py",
   "mimetype": "text/x-python",
   "name": "python",
   "nbconvert_exporter": "python",
   "pygments_lexer": "ipython3",
   "version": "3.9.18"
  }
 },
 "nbformat": 4,
 "nbformat_minor": 2
}
